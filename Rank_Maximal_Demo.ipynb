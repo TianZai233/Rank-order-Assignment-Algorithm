{
 "cells": [
  {
   "cell_type": "code",
   "execution_count": 1,
   "id": "9afdfe89-5b2b-4ab1-98a1-3e6d96349865",
   "metadata": {},
   "outputs": [],
   "source": [
    "import pulp\n",
    "import pandas as pd\n",
    "import random"
   ]
  },
  {
   "cell_type": "code",
   "execution_count": 2,
   "id": "8df10016-02c4-459f-84bf-72174e390494",
   "metadata": {},
   "outputs": [
    {
     "name": "stdout",
     "output_type": "stream",
     "text": [
      "Excel file generated successfully: residents_prefs.xlsx\n",
      "  Names                                        Preferences\n",
      "0  0001  9058,9013,9141,9126,9115,9072,9053,9280,9045,9...\n",
      "1  0002  9280,9215,9113,9230,9302,9143,9004,9082,9217,9...\n",
      "2  0003  9048,9195,9050,9184,9177,9310,9136,9023,9236,9...\n",
      "3  0004  9041,9283,9151,9322,9317,9186,9296,9099,9036,9...\n",
      "4  0005  9326,9187,9084,9190,9182,9108,9137,9037,9312,9...\n"
     ]
    }
   ],
   "source": [
    "# Generates a dataset of residents and randomizes their hospital preferences\n",
    "\n",
    "random.seed(42)\n",
    "\n",
    "# Residents: 0001 → 0300\n",
    "residents = [f\"{i:04d}\" for i in range(1, 301)]\n",
    "\n",
    "# Hospitals: 9001 → 9131\n",
    "hospitals = [f\"{i:04d}\" for i in range(9001, 9331)]  \n",
    "\n",
    "def generate_prefs():\n",
    "    \"\"\"Return a random list of 10-20 hospital IDs as a comma-separated string.\"\"\"\n",
    "    k = random.randint(10, 20)        \n",
    "    selected = random.sample(hospitals, k)  \n",
    "    return \",\".join(selected)         \n",
    "\n",
    "\n",
    "prefs_list = [generate_prefs() for _ in residents]\n",
    "\n",
    "df = pd.DataFrame({\n",
    "    \"Names\": residents,\n",
    "    \"Preferences\": prefs_list\n",
    "})\n",
    "\n",
    "output_path = \"residents_prefs.xlsx\"\n",
    "df.to_excel(output_path, index=False)\n",
    "\n",
    "print(f\"Excel file generated successfully: {output_path}\")\n",
    "print(df.head())  \n"
   ]
  },
  {
   "cell_type": "code",
   "execution_count": 3,
   "id": "671e6356-3375-4c11-88ee-9b8c0b1c3552",
   "metadata": {},
   "outputs": [
    {
     "name": "stdout",
     "output_type": "stream",
     "text": [
      "Hospital capacities Excel generated: hospital_capacities.xlsx\n",
      "  Hospital  Capacity\n",
      "0     9001         1\n",
      "1     9002         1\n",
      "2     9003         1\n",
      "3     9004         1\n",
      "4     9005         1\n"
     ]
    }
   ],
   "source": [
    "# Builds a sample dataset for hospitals and their capacities\n",
    "\n",
    "hospitals = [f\"{i:04d}\" for i in range(9001, 9331)]  # 9001 → 9130\n",
    "\n",
    "# Sets capacities of hospitals to indvcapacity\n",
    "indvcapacity = 1\n",
    "capacities = [indvcapacity] * len(hospitals)\n",
    "\n",
    "df = pd.DataFrame({\n",
    "    \"Hospital\": hospitals,\n",
    "    \"Capacity\": capacities\n",
    "})\n",
    "\n",
    "output_path = \"hospital_capacities.xlsx\"\n",
    "df.to_excel(output_path, index=False)\n",
    "\n",
    "print(f\"Hospital capacities Excel generated: {output_path}\")\n",
    "print(df.head())  "
   ]
  },
  {
   "cell_type": "code",
   "execution_count": 4,
   "id": "01e411c9-5a0e-445e-9389-e2c55f81ca2e",
   "metadata": {},
   "outputs": [
    {
     "name": "stdout",
     "output_type": "stream",
     "text": [
      "   Names                                        Preferences\n",
      "0      1  9058,9013,9141,9126,9115,9072,9053,9280,9045,9...\n",
      "1      2  9280,9215,9113,9230,9302,9143,9004,9082,9217,9...\n",
      "2      3  9048,9195,9050,9184,9177,9310,9136,9023,9236,9...\n",
      "3      4  9041,9283,9151,9322,9317,9186,9296,9099,9036,9...\n",
      "4      5  9326,9187,9084,9190,9182,9108,9137,9037,9312,9...\n",
      "  Hospital  Capacity\n",
      "0     9001         1\n",
      "1     9002         1\n",
      "2     9003         1\n",
      "3     9004         1\n",
      "4     9005         1\n"
     ]
    }
   ],
   "source": [
    "import pandas as pd\n",
    "\n",
    "# Load Excel files and read the Excel files into dataframes. \n",
    "# We assume the Excel file \"residents_prefs.xlsx\" has two columns, one with the resident's name labeled \"Names\",  \n",
    "# one with list of preferences separated by commas, in order of rank.\n",
    "# For example:\n",
    "#    Names     Preferences\n",
    "# 0   r1        A,B,C,D\n",
    "# 1   r2        B,D\n",
    "# 2   r3        A,B,F,G,H\n",
    "#\n",
    "# This signifies that Dr. r1's rankings are 1. A, 2. B, 3. C, 4. D. And so on.\n",
    "# For \"hospital_capacities.xlsx\", we assume that the first column is labeled \"Hospital\", and the second one is labeled \"Capacity\".\n",
    "# The columns for hospital_capacities.xlsx should be strings for Hospital, int for Capacity.\n",
    "\n",
    "df = pd.read_excel(\"residents_prefs.xlsx\")\n",
    "cap_df = pd.read_excel(\"hospital_capacities.xlsx\")    # columns: Hospital, Capacity\n",
    "\n",
    "\n",
    "\n",
    "# Proceed to read the residents Excel file into a dict(string,list). The list will also be ordered by rank. \n",
    "residents = df[\"Names\"].astype(str).tolist()\n",
    "\n",
    "# Append \"None\" to list of hospitals, with excess capacity. \n",
    "# See explanation for why we do this below.\n",
    "cap_df.loc[len(cap_df)] = [\"None\", len(residents)+1]\n",
    "\n",
    "# Normalize formatting\n",
    "cap_df = cap_df.copy()\n",
    "cap_df[\"Hospital\"] = cap_df[\"Hospital\"].astype(str).str.strip().str.zfill(4)\n",
    "cap_df[\"Capacity\"] = cap_df[\"Capacity\"].astype(int).clip(lower=0)\n",
    "\n",
    "# Preview first few entries of df and cap_df\n",
    "print(df.head(5))\n",
    "print(cap_df.head(5))\n",
    "\n",
    "# Convert to dictionaries\n",
    "hospitals = dict(zip(cap_df[\"Hospital\"], cap_df[\"Capacity\"]))\n",
    "\n",
    "preferences = {}\n",
    "for _, row in df.iterrows():\n",
    "    name = str(row[\"Names\"]).strip()\n",
    "    pref_str = str(row[\"Preferences\"]) if pd.notna(row[\"Preferences\"]) else \"\"\n",
    "    raw_list = [p.strip() for p in pref_str.split(\",\") if p.strip()]\n",
    "\n",
    "    # normalize & filter\n",
    "    hospital_list = []\n",
    "    for h in raw_list:\n",
    "        h_norm = str(h).strip().zfill(4)  \n",
    "        if h_norm in hospitals:\n",
    "            hospital_list.append(h_norm)\n",
    "    \n",
    "    # Append the created hospital \"None\" at the end of each resident's preference list\n",
    "    # See explanation of why we do this below\n",
    "    hospital_list.append(\"None\")\n",
    "\n",
    "    # to (hospital, rank) tuples: 1,2,3,...\n",
    "    preferences[name] = [(h, r+1) for r, h in enumerate(hospital_list)]"
   ]
  },
  {
   "cell_type": "code",
   "execution_count": 5,
   "id": "1f1f8b79-d929-4ce8-85c9-8a185747dab4",
   "metadata": {},
   "outputs": [
    {
     "name": "stdout",
     "output_type": "stream",
     "text": [
      "[('1', '9058', 1), ('1', '9013', 2), ('1', '9141', 3), ('1', '9126', 4), ('1', '9115', 5)]\n"
     ]
    }
   ],
   "source": [
    "# edges is a list of all possible triplets (i,j,r) for which i and j are \"successful\" rank-r pairings. \n",
    "# For example, (0001, 9058, 1) would be an element of edges if and only if doctor 0001 selected hospital 9058 as their #1 choice\n",
    "# These pairs will later be used to determine maximum rank pairs.\n",
    "\n",
    "edges = []  # list of (resident, hospital, rank)\n",
    "for i in residents:\n",
    "    for (j, r) in preferences.get(i, []):\n",
    "        edges.append((i, j, r))\n",
    "\n",
    "if not edges:\n",
    "    raise ValueError(\"No edges found from preferences after normalization.\")\n",
    "\n",
    "max_rank = max(r for (_, _, r) in edges)\n",
    "\n",
    "# Preview first 5 edges\n",
    "print(edges[:5])"
   ]
  },
  {
   "cell_type": "code",
   "execution_count": 6,
   "id": "54cd52d7-3176-492d-afcf-d810e10d50b4",
   "metadata": {},
   "outputs": [],
   "source": [
    "# Create Linear Programming problem in PuLP, Rank_Maximal_AllRanks, and sets the problem to maximize.\n",
    "\n",
    "prob = pulp.LpProblem(\"RankMaximal_AllRanks\", pulp.LpMaximize)"
   ]
  },
  {
   "cell_type": "code",
   "execution_count": 7,
   "id": "956dc12b-522d-4ea9-ba1c-61c8e4b56d42",
   "metadata": {},
   "outputs": [],
   "source": [
    "# Create decision variable x. Xij = 1 if we assign resident i to hospital j, and 0 otherwise.\n",
    "\n",
    "x = {(i, j): pulp.LpVariable(f\"x_{i}_{j}\", lowBound=0, upBound=1, cat=\"Continuous\")\n",
    "     for (i, j, _) in edges}"
   ]
  },
  {
   "cell_type": "code",
   "execution_count": 8,
   "id": "91028e4e-b080-4743-8931-e6b38d2d893b",
   "metadata": {},
   "outputs": [],
   "source": [
    "# Adds constraint that any resident i can only be assigned to maximum of one hospital. I.e. sum of xi over j is 1.\n",
    "\n",
    "for i in residents:\n",
    "    prob += (\n",
    "        pulp.lpSum(x[(ii, j)] for (ii, j) in x.keys() if ii == i) <= 1,\n",
    "        f\"Resident_{i}_at_most_one\"\n",
    "    )"
   ]
  },
  {
   "cell_type": "code",
   "execution_count": 9,
   "id": "83c942b9-dcde-410c-aee0-651b63596dee",
   "metadata": {},
   "outputs": [],
   "source": [
    "# Adds constraint that any hospital j must have less residents than its capacity.\n",
    "\n",
    "for j, cap in hospitals.items():\n",
    "    prob += (\n",
    "        pulp.lpSum(x[(i, jj)] for (i, jj) in x.keys() if jj == j) <= int(cap),\n",
    "        f\"Hospital_{j}_capacity\"\n",
    "    )"
   ]
  },
  {
   "cell_type": "code",
   "execution_count": 10,
   "id": "b8efef0b-d5e9-4a3d-a5ab-8adcfa70e152",
   "metadata": {},
   "outputs": [],
   "source": [
    "# Helpful variables to assist with maximizing\n",
    "# all_match_expr is the sum of all decision variables across all hospitals and all residents. It represents the # of assignments that have been made\n",
    "all_match_expr = pulp.lpSum(x.values())\n",
    "\n",
    "# Building rank_expr as the vector {r1,r2,r3...} that represents how many assignments are made at each rank. I.e {103, 4, 3,...} would represent \n",
    "# 103 first rank matches, 4 second rank matches, 3 third rank matches, etc. \n",
    "rank_expr = {}\n",
    "\n",
    "for r in range(1, max_rank + 1):\n",
    "    rank_expr[r] = pulp.lpSum(x[(i, j)] for (i, j, rr) in edges if rr == r)"
   ]
  },
  {
   "cell_type": "code",
   "execution_count": 11,
   "id": "1f59fae6-9600-4be2-995c-11eb05a1becf",
   "metadata": {},
   "outputs": [
    {
     "name": "stdout",
     "output_type": "stream",
     "text": [
      "[('total', 300), (1, 195), (2, 56), (3, 17), (4, 11)]\n"
     ]
    }
   ],
   "source": [
    "# First we set objective to our previously defined variable all_match_expr to maximize TOTAL assignments\n",
    "prob.setObjective(all_match_expr)\n",
    "\n",
    "# Solve the linear program and check that an optimal solution was found.\n",
    "prob.solve(pulp.PULP_CBC_CMD(msg=False))\n",
    "if pulp.LpStatus[prob.status] != \"Optimal\":\n",
    "    raise RuntimeError(\"All matching not Optimal.\")\n",
    "\n",
    "# Extract the maximum number of total assignments as K_Total.\n",
    "K_total = int(round(pulp.value(all_match_expr)))\n",
    "\n",
    "locks = []\n",
    "signature = {}\n",
    "\n",
    "# \"Lock\" all_match_expr to K_Total, i.e. there cannot be less assignments than the maximum number of assignments.\n",
    "prob += (all_match_expr == K_total), \"LOCK_total_matches\"\n",
    "locks.append((\"total\", K_total))\n",
    "\n",
    "# Set up for loop for all ranks\n",
    "for r in range(1, max_rank + 1):\n",
    "    \n",
    "    # Set the objective as maximizing assignments for the current rank.\n",
    "    prob.setObjective(rank_expr[r])\n",
    "    \n",
    "    # Solve and check for optimal solution.\n",
    "    prob.solve(pulp.PULP_CBC_CMD(msg=False))\n",
    "    if pulp.LpStatus[prob.status] != \"Optimal\":\n",
    "        raise RuntimeError(f\"{r} assignments not Optimal.\")\n",
    "        \n",
    "    # Extract the maximum number of assignments for current rank w/ given constraints.\n",
    "    Kr = int(round(pulp.value(rank_expr[r])))\n",
    "\n",
    "    # Stores number of residents matched at that rank as signature[r]\n",
    "    signature[r] = Kr\n",
    "\n",
    "    # \"Lock\" rank_expr[r] == Kr by adding this as a constraint. \n",
    "    prob += (rank_expr[r] == Kr), f\"LOCK_rank_{r}\"\n",
    "    locks.append((r, Kr))\n",
    "\n",
    "print(locks[:5])"
   ]
  },
  {
   "cell_type": "code",
   "execution_count": 12,
   "id": "d8d0374d-a188-44e1-a8f6-57dc38daa661",
   "metadata": {},
   "outputs": [
    {
     "name": "stdout",
     "output_type": "stream",
     "text": [
      "Final Status: Optimal\n"
     ]
    }
   ],
   "source": [
    "# Once exact maximum numbers for each rank are found, extract one feasible solution.\n",
    "\n",
    "prob.setObjective(pulp.lpSum(0 * v for v in x.values()))\n",
    "prob.solve(pulp.PULP_CBC_CMD(msg=False))\n",
    "print(\"Final Status:\", pulp.LpStatus[prob.status])\n"
   ]
  },
  {
   "cell_type": "code",
   "execution_count": 13,
   "id": "6807e2ed-9334-4e78-87a7-08902414ccd8",
   "metadata": {},
   "outputs": [
    {
     "name": "stdout",
     "output_type": "stream",
     "text": [
      "# residents: 300\n",
      "# hospitals: 331\n",
      "Locked total matches: 300\n",
      "Rank-maximal signature (count per rank):\n",
      "  rank 1: 195\n",
      "  rank 2: 56\n",
      "  rank 3: 17\n",
      "  rank 4: 11\n",
      "  rank 5: 7\n",
      "  rank 6: 5\n",
      "  rank 7: 1\n",
      "  rank 8: 3\n",
      "  rank 9: 1\n",
      "  rank 10: 1\n",
      "  rank 11: 1\n",
      "  rank 12: 0\n",
      "  rank 13: 0\n",
      "  rank 14: 1\n",
      "  rank 15: 0\n",
      "  rank 16: 1\n",
      "  rank 17: 0\n",
      "  rank 18: 0\n",
      "  rank 19: 0\n",
      "  rank 20: 0\n",
      "  rank 21: 0\n",
      "# matched pairs in solution: 300\n",
      "Sample matches: [('1', '9058'), ('2', '9280'), ('3', '9048'), ('4', '9283'), ('5', '9326'), ('6', '9167'), ('7', '9276'), ('8', '9057'), ('9', '9129'), ('10', '9321'), ('11', '9307'), ('12', '9041'), ('13', '9192'), ('14', '9122'), ('15', '9221')]\n"
     ]
    }
   ],
   "source": [
    "# Build the matching list from the optimal solution\n",
    "matching = []\n",
    "for (i, j), var in x.items():\n",
    "    val = var.value()\n",
    "    if val is not None and val >= 1 - 1e-6:\n",
    "        matching.append((i, j))\n",
    "\n",
    "# Print Results \n",
    "print(f\"# residents: {len(residents)}\")\n",
    "print(f\"# hospitals: {len(hospitals)}\")\n",
    "print(f\"Locked total matches: {K_total}\")\n",
    "print(\"Rank-maximal signature (count per rank):\")\n",
    "for r in range(1, max_rank + 1):\n",
    "    print(f\"  rank {r}: {signature.get(r, 0)}\")\n",
    "print(f\"# matched pairs in solution: {len(matching)}\")\n",
    "\n",
    "# Example: preview first 15 assignments\n",
    "print(\"Sample matches:\", matching[:15])\n"
   ]
  },
  {
   "cell_type": "code",
   "execution_count": 16,
   "id": "450a0140-1e0e-42c9-b0c7-c8ec9367c474",
   "metadata": {},
   "outputs": [
    {
     "data": {
      "image/png": "[encoded data removed]",
      "text/plain": [
       "<Figure size 640x480 with 1 Axes>"
      ]
     },
     "metadata": {},
     "output_type": "display_data"
    },
    {
     "name": "stdout",
     "output_type": "stream",
     "text": [
      "{'first_choice_matches': 195, 'unmatched_doctors': 0, 'weighted_score': 234.6038059163059, 'average_rank': 1.86}\n"
     ]
    }
   ],
   "source": [
    "def load_data(pref_file, assign_file):\n",
    "    preferences = pd.read_csv(pref_file, header=None).to_numpy()\n",
    "    assignments = pd.read_csv(assign_file, header=None).to_numpy().flatten()\n",
    "    return preferences, assignments\n",
    "\n",
    "def evaluate_matching(preferences, assignments, plot_histogram=True):\n",
    "\n",
    "    num_doctors, num_hospitals = preferences.shape\n",
    "\n",
    "    # The first-choice hospital for each doctor (hospital ID with the smallest preference value)\n",
    "    first_choices = np.argmin(preferences, axis=1)\n",
    "\n",
    "    # Number of doctors matched to their first-choice hospital\n",
    "    matched_first_choice = np.sum(assignments == first_choices)\n",
    "\n",
    "    # Number of doctors who were not matched\n",
    "    unmatched_count = np.sum(assignments == -1)\n",
    "\n",
    "    # Weighted score: 1 for first choice, 1/2 for second choice, 1/3 for third, etc.\n",
    "    weighted_score = 0\n",
    "    ranks = []  # store each doctor's assigned rank\n",
    "    for i, hospital in enumerate(assignments):\n",
    "        if hospital == -1:\n",
    "            continue\n",
    "        # Find the rank of the assigned hospital for this doctor\n",
    "        rank = np.argsort(preferences[i]).tolist().index(hospital) + 1\n",
    "        ranks.append(rank)\n",
    "        weighted_score += 1 / rank\n",
    "\n",
    "    # Average rank\n",
    "    avg_rank = float(np.mean(ranks)) if ranks else None\n",
    "\n",
    "    # Plot histogram of ranks if requested\n",
    "    if plot_histogram and ranks:\n",
    "        values = ranks + [0] * unmatched_count  # 0 unmatched\n",
    "        labels = [f\"{i}\" for i in range(1, max(ranks) + 1)] + [\"N/A\"] if ranks else [\"N/A\"]\n",
    "\n",
    "        counts = [values.count(0)] + [values.count(i) for i in range(1, max(ranks) + 1)] if ranks else [unmatched_count]\n",
    "\n",
    "        plt.bar(range(len(counts)), counts, tick_label=labels, width=0.6)\n",
    "        plt.xlabel(\"Assignment outcome\")\n",
    "        plt.ylabel(\"Number of doctors\")\n",
    "        plt.title(\"Distribution of assigned preferences\")\n",
    "        plt.show()\n",
    "\n",
    "\n",
    "    return {\n",
    "        \"first_choice_matches\": int(matched_first_choice),\n",
    "        \"unmatched_doctors\": int(unmatched_count),\n",
    "        \"weighted_score\": float(weighted_score),\n",
    "        \"average_rank\": avg_rank\n",
    "    }\n",
    "\n",
    "import numpy as np  \n",
    "\n",
    "# Map hospitals and residents to indices for matrix form \n",
    "resident_to_idx = {res: idx for idx, res in enumerate(residents)}   \n",
    "hospital_list = sorted(hospitals.keys())                           \n",
    "hospital_to_idx = {h: idx for idx, h in enumerate(hospital_list)}   \n",
    "\n",
    "# Build preference matrix: rows=residents, cols=hospitals, values=ranks \n",
    "pref_matrix = np.full((len(residents), len(hospital_list)), fill_value=9999)  \n",
    "for i, prefs in preferences.items():                                         \n",
    "    for h, r in prefs:                                                        \n",
    "        pref_matrix[resident_to_idx[i], hospital_to_idx[h]] = r               \n",
    "\n",
    "# Build assignment vector: hospital index or -1 if unmatched \n",
    "assign_vector = np.full(len(residents), -1)                                   \n",
    "for i, j in matching:                                                         \n",
    "    ri = resident_to_idx[i]                                                  \n",
    "    hj = hospital_to_idx[j]                                                   \n",
    "    assign_vector[ri] = hj                                                    \n",
    "\n",
    "# Save to CSV for evaluation function \n",
    "np.savetxt(\"preferences.csv\", pref_matrix, delimiter=\",\", fmt=\"%d\")           \n",
    "np.savetxt(\"assignments.csv\", assign_vector, delimiter=\",\", fmt=\"%d\")         \n",
    "\n",
    "\n",
    "from matplotlib import pyplot as plt   \n",
    "\n",
    "# Use the evaluation code\n",
    "preferences_arr, assignments_arr = load_data(\"preferences.csv\", \"assignments.csv\")   \n",
    "results = evaluate_matching(preferences_arr, assignments_arr, plot_histogram=True)   \n",
    "print(results)                                                                       "
   ]
  }
 ],
 "metadata": {
  "kernelspec": {
   "display_name": "Python 3 (ipykernel)",
   "language": "python",
   "name": "python3"
  },
  "language_info": {
   "codemirror_mode": {
    "name": "ipython",
    "version": 3
   },
   "file_extension": ".py",
   "mimetype": "text/x-python",
   "name": "python",
   "nbconvert_exporter": "python",
   "pygments_lexer": "ipython3",
   "version": "3.13.5"
  }
 },
 "nbformat": 4,
 "nbformat_minor": 5
}
